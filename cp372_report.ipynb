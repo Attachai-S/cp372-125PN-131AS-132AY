{
  "nbformat": 4,
  "nbformat_minor": 0,
  "metadata": {
    "colab": {
      "provenance": [],
      "authorship_tag": "ABX9TyNK1ChguKw1U3kl3HDSVcme",
      "include_colab_link": true
    },
    "kernelspec": {
      "name": "python3",
      "display_name": "Python 3"
    },
    "language_info": {
      "name": "python"
    }
  },
  "cells": [
    {
      "cell_type": "markdown",
      "metadata": {
        "id": "view-in-github",
        "colab_type": "text"
      },
      "source": [
        "<a href=\"https://colab.research.google.com/github/Attachai-S/cp372-125PN-131AS-132AY/blob/main/cp372_report.ipynb\" target=\"_parent\"><img src=\"https://colab.research.google.com/assets/colab-badge.svg\" alt=\"Open In Colab\"/></a>"
      ]
    },
    {
      "cell_type": "markdown",
      "source": [
        "#**Download data**\n",
        "\n",
        "##**About dataset**\n",
        "[This dataset](https://www.kaggle.com/datasets/airbnb/seattle/) Since 2008, guests and hosts have used Airbnb to travel in a more unique, personalized way. As part of the Airbnb Inside initiative, this dataset describes the listing activity of homestays in Seattle, WA.\n",
        "\n",
        "<br>\n",
        "\n",
        "Dataset source : https://www.kaggle.com/datasets/airbnb/seattle/"
      ],
      "metadata": {
        "id": "TIQLIFdhvY6g"
      }
    },
    {
      "cell_type": "code",
      "execution_count": 1,
      "metadata": {
        "colab": {
          "base_uri": "https://localhost:8080/"
        },
        "id": "4GdiE2Cltlah",
        "outputId": "d4e486c2-47b1-4acb-838f-ffaa7bd46f53"
      },
      "outputs": [
        {
          "output_type": "stream",
          "name": "stdout",
          "text": [
            "Downloading from https://www.kaggle.com/api/v1/datasets/download/airbnb/seattle?dataset_version_number=2...\n"
          ]
        },
        {
          "output_type": "stream",
          "name": "stderr",
          "text": [
            "100%|██████████| 19.5M/19.5M [00:00<00:00, 52.6MB/s]"
          ]
        },
        {
          "output_type": "stream",
          "name": "stdout",
          "text": [
            "Extracting files...\n"
          ]
        },
        {
          "output_type": "stream",
          "name": "stderr",
          "text": [
            "\n"
          ]
        },
        {
          "output_type": "stream",
          "name": "stdout",
          "text": [
            "Path to dataset files: /root/.cache/kagglehub/datasets/airbnb/seattle/versions/2\n"
          ]
        }
      ],
      "source": [
        "import kagglehub\n",
        "\n",
        "# Download latest version dataset\n",
        "path = kagglehub.dataset_download(\"airbnb/seattle\")\n",
        "\n",
        "print(\"Path to dataset files:\", path)"
      ]
    },
    {
      "cell_type": "code",
      "source": [
        "import os\n",
        "#check files from path\n",
        "extract_path_file = !ls {path}\n",
        "\n",
        "#extract each file to path\n",
        "file_name = []\n",
        "for csv_name in extract_path_file[0].split(\" \"):\n",
        "  if csv_name != \"\" :\n",
        "    file_name.append(os.path.join(path, csv_name))\n",
        "\n",
        "file_name\n"
      ],
      "metadata": {
        "colab": {
          "base_uri": "https://localhost:8080/"
        },
        "id": "kqPUKKWExSEL",
        "outputId": "69f31e2a-88eb-4746-ac50-33ad120239d7"
      },
      "execution_count": 13,
      "outputs": [
        {
          "output_type": "execute_result",
          "data": {
            "text/plain": [
              "['/root/.cache/kagglehub/datasets/airbnb/seattle/versions/2/calendar.csv',\n",
              " '/root/.cache/kagglehub/datasets/airbnb/seattle/versions/2/listings.csv',\n",
              " '/root/.cache/kagglehub/datasets/airbnb/seattle/versions/2/reviews.csv']"
            ]
          },
          "metadata": {},
          "execution_count": 13
        }
      ]
    },
    {
      "cell_type": "code",
      "source": [],
      "metadata": {
        "colab": {
          "base_uri": "https://localhost:8080/",
          "height": 35
        },
        "id": "tRnvnUy4ycvA",
        "outputId": "f6aef8fc-b62a-4f4a-9477-9f22c4868352"
      },
      "execution_count": 3,
      "outputs": [
        {
          "output_type": "execute_result",
          "data": {
            "text/plain": [
              "''"
            ],
            "application/vnd.google.colaboratory.intrinsic+json": {
              "type": "string"
            }
          },
          "metadata": {},
          "execution_count": 3
        }
      ]
    }
  ]
}