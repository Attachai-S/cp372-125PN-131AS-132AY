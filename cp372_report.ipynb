{
  "nbformat": 4,
  "nbformat_minor": 0,
  "metadata": {
    "colab": {
      "provenance": [],
      "authorship_tag": "ABX9TyMae5d1z6d6tM5vQIw8Y8lu",
      "include_colab_link": true
    },
    "kernelspec": {
      "name": "python3",
      "display_name": "Python 3"
    },
    "language_info": {
      "name": "python"
    }
  },
  "cells": [
    {
      "cell_type": "markdown",
      "metadata": {
        "id": "view-in-github",
        "colab_type": "text"
      },
      "source": [
        "<a href=\"https://colab.research.google.com/github/Attachai-S/cp372-125PN-131AS-132AY/blob/main/cp372_report.ipynb\" target=\"_parent\"><img src=\"https://colab.research.google.com/assets/colab-badge.svg\" alt=\"Open In Colab\"/></a>"
      ]
    },
    {
      "cell_type": "markdown",
      "source": [
        "#**Download data**\n",
        "\n",
        "##**About dataset**\n",
        "[This dataset](https://www.kaggle.com/datasets/airbnb/seattle/) Since 2008, guests and hosts have used Airbnb to travel in a more unique, personalized way. As part of the Airbnb Inside initiative, this dataset describes the listing activity of homestays in Seattle, WA.\n",
        "\n",
        "<br>\n",
        "\n",
        "Dataset source : https://www.kaggle.com/datasets/airbnb/seattle/"
      ],
      "metadata": {
        "id": "TIQLIFdhvY6g"
      }
    },
    {
      "cell_type": "code",
      "execution_count": 4,
      "metadata": {
        "colab": {
          "base_uri": "https://localhost:8080/"
        },
        "id": "4GdiE2Cltlah",
        "outputId": "09bcbf84-368a-49d2-8bb5-9863583e2262"
      },
      "outputs": [
        {
          "output_type": "stream",
          "name": "stdout",
          "text": [
            "Path to dataset files: /kaggle/input/seattle\n"
          ]
        }
      ],
      "source": [
        "import kagglehub\n",
        "\n",
        "# Download latest version dataset\n",
        "path = kagglehub.dataset_download(\"airbnb/seattle\")\n",
        "\n",
        "print(\"Path to dataset files:\", path)"
      ]
    },
    {
      "cell_type": "code",
      "source": [
        "import os\n",
        "#check files from path\n",
        "extract_path_file = !ls {path}\n",
        "\n",
        "#extract each file to path\n",
        "file_name = []\n",
        "for i in extract_path_file[0].split(\" \"):\n",
        "  if i == \" \":\n",
        "    pass\n",
        "  else :\n",
        "    file_name.append(os.path.join(path, i))\n",
        "\n",
        "#delete index 1 and 4 from file_name\n",
        "del file_name[1]\n",
        "del file_name[2]\n",
        "\n",
        "#print file_name\n",
        "file_name\n"
      ],
      "metadata": {
        "colab": {
          "base_uri": "https://localhost:8080/"
        },
        "id": "kqPUKKWExSEL",
        "outputId": "ede36daf-21b2-441e-9b5c-a977855f22c9"
      },
      "execution_count": 27,
      "outputs": [
        {
          "output_type": "execute_result",
          "data": {
            "text/plain": [
              "['/kaggle/input/seattle/calendar.csv',\n",
              " '/kaggle/input/seattle/listings.csv',\n",
              " '/kaggle/input/seattle/reviews.csv']"
            ]
          },
          "metadata": {},
          "execution_count": 27
        }
      ]
    },
    {
      "cell_type": "code",
      "source": [],
      "metadata": {
        "colab": {
          "base_uri": "https://localhost:8080/"
        },
        "id": "tRnvnUy4ycvA",
        "outputId": "24d8ca45-b7ea-42b1-ea3f-4e5eeda50cc7"
      },
      "execution_count": 18,
      "outputs": [
        {
          "output_type": "execute_result",
          "data": {
            "text/plain": [
              "5"
            ]
          },
          "metadata": {},
          "execution_count": 18
        }
      ]
    }
  ]
}